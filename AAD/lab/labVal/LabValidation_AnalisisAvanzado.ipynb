{
  "nbformat": 4,
  "nbformat_minor": 0,
  "metadata": {
    "colab": {
      "provenance": []
    },
    "kernelspec": {
      "name": "python3",
      "display_name": "Python 3"
    },
    "language_info": {
      "name": "python"
    }
  },
  "cells": [
    {
      "cell_type": "markdown",
      "source": [
        "## Introducción\n",
        "\n",
        "vamos atomar una base de datos para predecir el precio de las casa de boston  a partir de las siguientes caracteristicas.\n",
        "\n",
        "\n",
        "1. **CRIM**: Tasa de criminalidad per cápita por ciudad.\n",
        "2. **ZN**: Proporción de tierra residencial dividida en zonas para lotes de más de 25,000 pies cuadrados.\n",
        "3. **INDUS**: Proporción de acres de negocios no minoristas por ciudad.\n",
        "4. **CHAS**: Variable ficticia Charles River.\n",
        "    CHAS = 1 if traza limita con el río else 0\n",
        "5. **NOX**: Concentración de óxidos nítricos (partes por 10 millones).\n",
        "6. **RM**: Número promedio de habitaciones por vivienda.\n",
        "7. **AGE**: Proporción de unidades ocupadas por sus propietarios construidas antes de 1940.\n",
        "8. **DIS**: Distancias ponderadas a cinco centros de empleo en Boston.\n",
        "9. **RAD**: Índice de accesibilidad a carreteras radiales.\n",
        "10. **TAX**: Tasa de impuesto a la propiedad de valor total por $10,000.\n",
        "11. **PTRATIO**: Proporción alumno-profesor por ciudad.\n",
        "12.  **B**:   1000*(Bk - 0.63)**2 donde Bk es la proporción de personas de origen afroamericano por ciudad.\n",
        "13. **LSTAT**: Porcentaje de población de menor estatus.\n",
        "\n",
        "objetivo predecir el valór de la vivienda medio\n",
        "\n",
        "##Advertencia Ética\n",
        "\n",
        "Es importante mencionar que al cargar el conjunto de datos, aparece una advertencia debido a los problemas éticos ***Aca debemos reflexionar un poco respecto a la ciencia de datos y la etica**. Sin embargo, para fines educativos y de demostración, se procedió con el análisis **sin tener en cuenta B**.\n",
        "\n"
      ],
      "metadata": {
        "id": "jYZXdBov2BCP"
      }
    },
    {
      "cell_type": "code",
      "execution_count": 11,
      "metadata": {
        "id": "XZSBwybZ1Iza",
        "colab": {
          "base_uri": "https://localhost:8080/",
          "height": 1000
        },
        "outputId": "af7cd447-e565-43ea-da2a-982655a45bec"
      },
      "outputs": [
        {
          "output_type": "error",
          "ename": "ImportError",
          "evalue": "ignored",
          "traceback": [
            "\u001b[0;31m---------------------------------------------------------------------------\u001b[0m",
            "\u001b[0;31mImportError\u001b[0m                               Traceback (most recent call last)",
            "\u001b[0;32m<ipython-input-11-5082e91806ac>\u001b[0m in \u001b[0;36m<cell line: 4>\u001b[0;34m()\u001b[0m\n\u001b[1;32m      2\u001b[0m \u001b[0;32mimport\u001b[0m \u001b[0mmatplotlib\u001b[0m\u001b[0;34m.\u001b[0m\u001b[0mpyplot\u001b[0m \u001b[0;32mas\u001b[0m \u001b[0mplt\u001b[0m\u001b[0;34m\u001b[0m\u001b[0;34m\u001b[0m\u001b[0m\n\u001b[1;32m      3\u001b[0m \u001b[0;32mimport\u001b[0m \u001b[0mpandas\u001b[0m \u001b[0;32mas\u001b[0m \u001b[0mpd\u001b[0m\u001b[0;34m\u001b[0m\u001b[0;34m\u001b[0m\u001b[0m\n\u001b[0;32m----> 4\u001b[0;31m \u001b[0;32mfrom\u001b[0m \u001b[0msklearn\u001b[0m\u001b[0;34m.\u001b[0m\u001b[0mdatasets\u001b[0m \u001b[0;32mimport\u001b[0m \u001b[0mload_boston\u001b[0m\u001b[0;34m\u001b[0m\u001b[0;34m\u001b[0m\u001b[0m\n\u001b[0m\u001b[1;32m      5\u001b[0m \u001b[0;34m\u001b[0m\u001b[0m\n\u001b[1;32m      6\u001b[0m \u001b[0;31m# import el dataset\u001b[0m\u001b[0;34m\u001b[0m\u001b[0;34m\u001b[0m\u001b[0m\n",
            "\u001b[0;32m/usr/local/lib/python3.10/dist-packages/sklearn/datasets/__init__.py\u001b[0m in \u001b[0;36m__getattr__\u001b[0;34m(name)\u001b[0m\n\u001b[1;32m    154\u001b[0m             \"\"\"\n\u001b[1;32m    155\u001b[0m         )\n\u001b[0;32m--> 156\u001b[0;31m         \u001b[0;32mraise\u001b[0m \u001b[0mImportError\u001b[0m\u001b[0;34m(\u001b[0m\u001b[0mmsg\u001b[0m\u001b[0;34m)\u001b[0m\u001b[0;34m\u001b[0m\u001b[0;34m\u001b[0m\u001b[0m\n\u001b[0m\u001b[1;32m    157\u001b[0m     \u001b[0;32mtry\u001b[0m\u001b[0;34m:\u001b[0m\u001b[0;34m\u001b[0m\u001b[0;34m\u001b[0m\u001b[0m\n\u001b[1;32m    158\u001b[0m         \u001b[0;32mreturn\u001b[0m \u001b[0mglobals\u001b[0m\u001b[0;34m(\u001b[0m\u001b[0;34m)\u001b[0m\u001b[0;34m[\u001b[0m\u001b[0mname\u001b[0m\u001b[0;34m]\u001b[0m\u001b[0;34m\u001b[0m\u001b[0;34m\u001b[0m\u001b[0m\n",
            "\u001b[0;31mImportError\u001b[0m: \n`load_boston` has been removed from scikit-learn since version 1.2.\n\nThe Boston housing prices dataset has an ethical problem: as\ninvestigated in [1], the authors of this dataset engineered a\nnon-invertible variable \"B\" assuming that racial self-segregation had a\npositive impact on house prices [2]. Furthermore the goal of the\nresearch that led to the creation of this dataset was to study the\nimpact of air quality but it did not give adequate demonstration of the\nvalidity of this assumption.\n\nThe scikit-learn maintainers therefore strongly discourage the use of\nthis dataset unless the purpose of the code is to study and educate\nabout ethical issues in data science and machine learning.\n\nIn this special case, you can fetch the dataset from the original\nsource::\n\n    import pandas as pd\n    import numpy as np\n\n    data_url = \"http://lib.stat.cmu.edu/datasets/boston\"\n    raw_df = pd.read_csv(data_url, sep=\"\\s+\", skiprows=22, header=None)\n    data = np.hstack([raw_df.values[::2, :], raw_df.values[1::2, :2]])\n    target = raw_df.values[1::2, 2]\n\nAlternative datasets include the California housing dataset and the\nAmes housing dataset. You can load the datasets as follows::\n\n    from sklearn.datasets import fetch_california_housing\n    housing = fetch_california_housing()\n\nfor the California housing dataset and::\n\n    from sklearn.datasets import fetch_openml\n    housing = fetch_openml(name=\"house_prices\", as_frame=True)\n\nfor the Ames housing dataset.\n\n[1] M Carlisle.\n\"Racist data destruction?\"\n<https://medium.com/@docintangible/racist-data-destruction-113e3eff54a8>\n\n[2] Harrison Jr, David, and Daniel L. Rubinfeld.\n\"Hedonic housing prices and the demand for clean air.\"\nJournal of environmental economics and management 5.1 (1978): 81-102.\n<https://www.researchgate.net/publication/4974606_Hedonic_housing_prices_and_the_demand_for_clean_air>\n",
            "",
            "\u001b[0;31m---------------------------------------------------------------------------\u001b[0;32m\nNOTE: If your import is failing due to a missing package, you can\nmanually install dependencies using either !pip or !apt.\n\nTo view examples of installing some common dependencies, click the\n\"Open Examples\" button below.\n\u001b[0;31m---------------------------------------------------------------------------\u001b[0m\n"
          ],
          "errorDetails": {
            "actions": [
              {
                "action": "open_url",
                "actionText": "Open Examples",
                "url": "/notebooks/snippets/importing_libraries.ipynb"
              }
            ]
          }
        }
      ],
      "source": [
        "import numpy as np\n",
        "import matplotlib.pyplot as plt\n",
        "import pandas as pd\n",
        "from sklearn.datasets import load_boston\n",
        "\n",
        "# import el dataset\n",
        "boston_data = load_boston()\n",
        "\n",
        "print(boston_data.DESCR)"
      ]
    },
    {
      "cell_type": "markdown",
      "source": [
        "Debido a los problemas éticos asociados con el conjunto de datos de viviendas de Boston, muchas bibliotecas y plataformas están evitando o desaconsejando su uso. Para fines academicos  y reflexivos, aún es posible obtener el conjunto de datos desde otras fuentes en línea."
      ],
      "metadata": {
        "id": "IdzGw6OWBS1u"
      }
    },
    {
      "cell_type": "code",
      "source": [
        "import pandas as pd\n",
        "import numpy as np\n",
        "\n",
        "data_url = \"http://lib.stat.cmu.edu/datasets/boston\"\n",
        "raw_df = pd.read_csv(data_url, sep=\"\\s+\", skiprows=22, header=None)\n",
        "data = np.hstack([raw_df.values[::2, :], raw_df.values[1::2, :2]])\n",
        "target = raw_df.values[1::2, 2]"
      ],
      "metadata": {
        "id": "10n4lXbR2cI9"
      },
      "execution_count": 14,
      "outputs": []
    },
    {
      "cell_type": "markdown",
      "source": [
        "## VISUALIZACIÓN\n",
        " Se grafica las relaciones entre cada característica y la variable objetivo \"MEDV\" (valor mediano de las viviendas) del conjunto de datos de viviendas de Boston. Estas gráficas te ayudarán a visualizar cómo cada característica se relaciona con el valor mediano de las viviendas.\n",
        "\n",
        "Es importante mencionar que al cargar el conjunto de datos, aparece una advertencia debido a los problemas éticos mencionados anteriormente. Sin embargo, para fines educativos y de demostración, procederemos con el análisis.\n",
        "\n",
        "Con base en las gráficas, puedes observar ciertas tendencias y relaciones entre las características y el valor mediano de las viviendas. Por ejemplo, \"RM\" (número promedio de habitaciones por vivienda) parece tener una relación lineal positiva con \"MEDV\", mientras que \"LSTAT\" (porcentaje de población de menor estatus) parece tener una relación lineal negativa."
      ],
      "metadata": {
        "id": "DYhgxGG5FpSN"
      }
    },
    {
      "cell_type": "code",
      "source": [
        "# Convertir los datos y el objetivo a un DataFrame\n",
        "df = pd.DataFrame(data)\n",
        "df['target'] = target\n",
        "\n",
        "# Nombres de las características para referencia\n",
        "feature_names = [\"CRIM\", \"ZN\", \"INDUS\", \"CHAS\", \"NOX\", \"RM\", \"AGE\", \"DIS\", \"RAD\", \"TAX\", \"PTRATIO\", \"B\", \"LSTAT\"]\n",
        "\n",
        "# Graficar cada característica contra la etiqueta\n",
        "fig, axes = plt.subplots(5, 3, figsize=(15, 20))\n",
        "\n",
        "for i, ax in enumerate(axes.ravel()):\n",
        "    if i > 12:\n",
        "        ax.axis('off')  # Desactivar ejes adicionales\n",
        "        continue\n",
        "    ax.scatter(df[i], df['target'], edgecolor='k', s=20)\n",
        "    ax.set_ylabel(\"MEDV (Valor mediano de vivienda)\")\n",
        "    ax.set_xlabel(feature_names[i])\n",
        "    ax.grid(True)\n",
        "\n",
        "plt.tight_layout()\n",
        "plt.show()\n"
      ],
      "metadata": {
        "id": "Z3DRe7j7FH8A"
      },
      "execution_count": null,
      "outputs": []
    },
    {
      "cell_type": "markdown",
      "source": [
        "## Validación Cruzada\n",
        "\n",
        "Realiza las técnicas de validación Genera un conjunto de modelos de regresión Lineal  y polinomio y entrega el mejor modelo usando validación k-fold  y LOOCV\n",
        "\n",
        "Qué características seleccionas para realizar la predicción Para la medida de calidad usa RMSE\n",
        "\n",
        "Puedes usar  los datos dados en el colab del 1 laboratorio o usar las librerias  sklearn"
      ],
      "metadata": {
        "id": "FhR8snzuI5iR"
      }
    },
    {
      "cell_type": "code",
      "source": [],
      "metadata": {
        "id": "WbKpjHqcZThH"
      },
      "execution_count": null,
      "outputs": []
    },
    {
      "cell_type": "markdown",
      "source": [
        "## Boostrap\n",
        "\n",
        "Eres un analista especializado en el mercado inmobiliario. Con el conjunto de datos proporcionado anteriormente, tu tarea es predecir el valor de las viviendas utilizando solamente dos características. Para validar la precisión y robustez de tu modelo, emplearás la técnica de bootstrap. Para llevar a cabo este procedimiento en Python, debes hacer uso de la función resample que se encuentra en el módulo scikit-learn.utils.\n",
        "\n",
        "pseudo codigo\n",
        "1 Selecciona una muestra con reemplazo\n",
        "    X_sample, y_sample = resample(X_selected, y, n_samples=bootstrap_size)\n",
        "    \n",
        "2 Entrena el modelo\n",
        "3 Hace predicciones sobre todo el conjunto de datos\n",
        "4 Calcula el error cuadrático medio y guardalo\n",
        "    mse = mean_squared_error(y, y_pred)\n",
        "    mse_values.append(mse)\n",
        "\n",
        "4 Analizar y visualizar la distribución de mse_values para obtener insights sobre la variabilidad y precisión del modelo."
      ],
      "metadata": {
        "id": "dOHLjWIdZUVW"
      }
    }
  ]
}