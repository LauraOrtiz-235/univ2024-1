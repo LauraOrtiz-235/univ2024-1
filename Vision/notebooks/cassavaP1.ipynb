{
  "nbformat": 4,
  "nbformat_minor": 0,
  "metadata": {
    "colab": {
      "provenance": [],
      "gpuType": "T4"
    },
    "kernelspec": {
      "name": "python3",
      "display_name": "Python 3"
    },
    "language_info": {
      "name": "python"
    },
    "accelerator": "GPU"
  },
  "cells": [
    {
      "cell_type": "markdown",
      "source": [
        "### Mariana Sanchez y Laura Ortiz\n",
        "\n",
        "# Parte 1"
      ],
      "metadata": {
        "id": "GiZE6mGSUvVl"
      }
    },
    {
      "cell_type": "code",
      "source": [
        "!pip install tensorflow_addons"
      ],
      "metadata": {
        "colab": {
          "base_uri": "https://localhost:8080/"
        },
        "id": "uEyPZZJx8biT",
        "outputId": "1c29c1a0-b47a-47b1-9e8b-4dd9d60fd138"
      },
      "execution_count": null,
      "outputs": [
        {
          "output_type": "stream",
          "name": "stdout",
          "text": [
            "Collecting tensorflow_addons\n",
            "  Downloading tensorflow_addons-0.23.0-cp310-cp310-manylinux_2_17_x86_64.manylinux2014_x86_64.whl (611 kB)\n",
            "\u001b[?25l     \u001b[90m━━━━━━━━━━━━━━━━━━━━━━━━━━━━━━━━━━━━━━━━\u001b[0m \u001b[32m0.0/611.8 kB\u001b[0m \u001b[31m?\u001b[0m eta \u001b[36m-:--:--\u001b[0m\r\u001b[2K     \u001b[91m━━━━━\u001b[0m\u001b[90m╺\u001b[0m\u001b[90m━━━━━━━━━━━━━━━━━━━━━━━━━━━━━━━━━━\u001b[0m \u001b[32m81.9/611.8 kB\u001b[0m \u001b[31m2.2 MB/s\u001b[0m eta \u001b[36m0:00:01\u001b[0m\r\u001b[2K     \u001b[90m━━━━━━━━━━━━━━━━━━━━━━━━━━━━━━━━━━━━━━━━\u001b[0m \u001b[32m611.8/611.8 kB\u001b[0m \u001b[31m8.6 MB/s\u001b[0m eta \u001b[36m0:00:00\u001b[0m\n",
            "\u001b[?25hRequirement already satisfied: packaging in /usr/local/lib/python3.10/dist-packages (from tensorflow_addons) (24.0)\n",
            "Collecting typeguard<3.0.0,>=2.7 (from tensorflow_addons)\n",
            "  Downloading typeguard-2.13.3-py3-none-any.whl (17 kB)\n",
            "Installing collected packages: typeguard, tensorflow_addons\n",
            "Successfully installed tensorflow_addons-0.23.0 typeguard-2.13.3\n"
          ]
        }
      ]
    },
    {
      "cell_type": "code",
      "source": [
        "import matplotlib.pyplot as plt\n",
        "import os\n",
        "import seaborn as sns\n",
        "\n",
        "import tensorflow as tf\n",
        "import tensorflow_addons as tfa\n",
        "import numpy as np"
      ],
      "metadata": {
        "colab": {
          "base_uri": "https://localhost:8080/"
        },
        "id": "hHtR6MIt_EZ3",
        "outputId": "ba2cc799-9f10-47f0-c7fc-6280a28910e0"
      },
      "execution_count": null,
      "outputs": [
        {
          "output_type": "stream",
          "name": "stderr",
          "text": [
            "/usr/local/lib/python3.10/dist-packages/tensorflow_addons/utils/tfa_eol_msg.py:23: UserWarning: \n",
            "\n",
            "TensorFlow Addons (TFA) has ended development and introduction of new features.\n",
            "TFA has entered a minimal maintenance and release mode until a planned end of life in May 2024.\n",
            "Please modify downstream libraries to take dependencies from other repositories in our TensorFlow community (e.g. Keras, Keras-CV, and Keras-NLP). \n",
            "\n",
            "For more information see: https://github.com/tensorflow/addons/issues/2807 \n",
            "\n",
            "  warnings.warn(\n"
          ]
        }
      ]
    },
    {
      "cell_type": "code",
      "source": [
        "import tensorflow_datasets as tfds"
      ],
      "metadata": {
        "id": "sG3WRUTZ_FT-"
      },
      "execution_count": null,
      "outputs": []
    },
    {
      "cell_type": "code",
      "source": [
        "BATCH_SIZE = 32\n",
        "EPOCHS = 100\n",
        "PATIENCE = 20\n",
        "HEIGHT = 224\n",
        "WIDTH = 224\n",
        "DEPTH = 3"
      ],
      "metadata": {
        "id": "3FQmlp1FGDe2"
      },
      "execution_count": null,
      "outputs": []
    },
    {
      "cell_type": "code",
      "execution_count": null,
      "metadata": {
        "id": "kVyXG9pb8Bti"
      },
      "outputs": [],
      "source": [
        "df,info = tfds.load('cassava',with_info=True,as_supervised=True)"
      ]
    },
    {
      "cell_type": "code",
      "source": [
        "train_ds = df['train']\n",
        "validation_ds = df['validation']\n",
        "test_ds = df['test']"
      ],
      "metadata": {
        "id": "VU3dHSRq8QPE"
      },
      "execution_count": null,
      "outputs": []
    },
    {
      "cell_type": "markdown",
      "source": [
        "Como el conjunto de datos de Cassava consiste en imágenes de hojas de plantas de Cassava que representan cinco condiciones diferentes: saludable y cuatro enfermedades distintas (CMD, CBB, CGM y CBSD). Al ser un problema de clasificación multiclase, vamos a representar las etiquetas de manera que cada muestra pueda pertenecer a una de varias clases diferentes.\n",
        "\n",
        "La codificación one-hot nos puede ayudar a tener una representación equilibrada de las clases y permitir al modelo aprender de manera más equitativa de todas las clases. Además, las etiquetas estaran en un formato adecuado para ser utilizadas con funciones de pérdida específicas para la clasificación multiclase, como CategoricalCrossentropy. Estas funciones de pérdida esperan que las etiquetas estén codificadas en one-hot encoding para calcular la pérdida correctamente."
      ],
      "metadata": {
        "id": "C6gu3YdaUOYt"
      }
    },
    {
      "cell_type": "code",
      "source": [
        "train_ds = train_ds.map(lambda image, label: (tf.image.resize(image, (HEIGHT, WIDTH)), tf.one_hot(label, depth=5)))\n",
        "validation_ds = validation_ds.map(lambda image, label: (tf.image.resize(image, (HEIGHT, WIDTH)), tf.one_hot(label, depth=5)))\n",
        "test_ds = test_ds.map(lambda image, label: (tf.image.resize(image, (HEIGHT, WIDTH)), tf.one_hot(label, depth=5)))\n",
        "\n",
        "train_ds = train_ds.batch(BATCH_SIZE)\n",
        "validation_ds = validation_ds.batch(BATCH_SIZE)\n",
        "test_ds = test_ds.batch(BATCH_SIZE)"
      ],
      "metadata": {
        "id": "v44kUNOQFP0E"
      },
      "execution_count": null,
      "outputs": []
    },
    {
      "cell_type": "code",
      "source": [
        "modelo_naive = tf.keras.models.Sequential([\n",
        "    tf.keras.layers.Rescaling(1. / 255, input_shape=(HEIGHT, WIDTH, DEPTH)),\n",
        "    tf.keras.layers.RandomFlip(mode=\"horizontal_and_vertical\"),\n",
        "    tf.keras.layers.RandomRotation(factor=0.25),\n",
        "    tf.keras.layers.RandomZoom((0.2, 0.5), (0.2, 0.5)),\n",
        "\n",
        "    tf.keras.layers.Conv2D(32, (3, 3), padding='same', activation='relu'),\n",
        "    tf.keras.layers.MaxPooling2D(pool_size=(2, 2)),\n",
        "\n",
        "    tf.keras.layers.Conv2D(64, (3, 3), padding='same', activation='relu'),\n",
        "    tf.keras.layers.MaxPooling2D(pool_size=(2, 2)),\n",
        "\n",
        "    tf.keras.layers.Conv2D(128, (3, 3), padding='same', activation='relu'),\n",
        "    tf.keras.layers.MaxPooling2D(pool_size=(2, 2)),\n",
        "\n",
        "    tf.keras.layers.Flatten(),\n",
        "    tf.keras.layers.Dropout(0.5),\n",
        "    tf.keras.layers.Dense(128, activation='relu'),\n",
        "    tf.keras.layers.Dropout(0.5),\n",
        "    tf.keras.layers.Dense(5, activation='softmax')\n",
        "])"
      ],
      "metadata": {
        "id": "5SnRpcwp_xPO"
      },
      "execution_count": null,
      "outputs": []
    },
    {
      "cell_type": "code",
      "source": [
        "modelo_naive.compile(loss=tf.keras.losses.CategoricalCrossentropy(),\n",
        "                     optimizer=tf.keras.optimizers.Adam(learning_rate=5e-4),\n",
        "                     metrics=[\"accuracy\"])\n",
        "\n",
        "callbacks = [tf.keras.callbacks.EarlyStopping(patience=PATIENCE, restore_best_weights=True)]\n",
        "\n",
        "history = modelo_naive.fit(train_ds, validation_data=validation_ds, epochs=EPOCHS, callbacks=callbacks)"
      ],
      "metadata": {
        "colab": {
          "base_uri": "https://localhost:8080/"
        },
        "id": "Qsn0q4iVF-1g",
        "outputId": "7d3fb836-d3d2-454d-e521-ba36eb4f9439"
      },
      "execution_count": null,
      "outputs": [
        {
          "output_type": "stream",
          "name": "stdout",
          "text": [
            "Epoch 1/100\n",
            "177/177 [==============================] - 34s 143ms/step - loss: 1.4104 - accuracy: 0.4556 - val_loss: 1.2773 - val_accuracy: 0.4754\n",
            "Epoch 2/100\n",
            "177/177 [==============================] - 24s 133ms/step - loss: 1.2910 - accuracy: 0.5104 - val_loss: 1.2457 - val_accuracy: 0.4981\n",
            "Epoch 3/100\n",
            "177/177 [==============================] - 24s 133ms/step - loss: 1.2130 - accuracy: 0.5636 - val_loss: 1.1213 - val_accuracy: 0.5834\n",
            "Epoch 4/100\n",
            "177/177 [==============================] - 25s 139ms/step - loss: 1.1691 - accuracy: 0.5826 - val_loss: 1.1313 - val_accuracy: 0.5823\n",
            "Epoch 5/100\n",
            "177/177 [==============================] - 23s 131ms/step - loss: 1.1235 - accuracy: 0.5964 - val_loss: 1.1330 - val_accuracy: 0.5834\n",
            "Epoch 6/100\n",
            "177/177 [==============================] - 23s 131ms/step - loss: 1.0917 - accuracy: 0.6137 - val_loss: 1.1573 - val_accuracy: 0.5924\n",
            "Epoch 7/100\n",
            "177/177 [==============================] - 24s 135ms/step - loss: 1.0659 - accuracy: 0.6139 - val_loss: 1.1099 - val_accuracy: 0.6019\n",
            "Epoch 8/100\n",
            "177/177 [==============================] - 28s 159ms/step - loss: 1.0731 - accuracy: 0.6170 - val_loss: 1.1506 - val_accuracy: 0.5961\n",
            "Epoch 9/100\n",
            "177/177 [==============================] - 24s 133ms/step - loss: 1.0688 - accuracy: 0.6109 - val_loss: 1.0999 - val_accuracy: 0.5977\n",
            "Epoch 10/100\n",
            "177/177 [==============================] - 25s 139ms/step - loss: 1.0517 - accuracy: 0.6140 - val_loss: 1.0103 - val_accuracy: 0.6294\n",
            "Epoch 11/100\n",
            "177/177 [==============================] - 24s 137ms/step - loss: 1.0291 - accuracy: 0.6234 - val_loss: 1.0262 - val_accuracy: 0.6146\n",
            "Epoch 12/100\n",
            "177/177 [==============================] - 23s 131ms/step - loss: 1.0252 - accuracy: 0.6252 - val_loss: 1.0081 - val_accuracy: 0.6151\n",
            "Epoch 13/100\n",
            "177/177 [==============================] - 28s 158ms/step - loss: 1.0176 - accuracy: 0.6301 - val_loss: 1.0011 - val_accuracy: 0.6278\n",
            "Epoch 14/100\n",
            "177/177 [==============================] - 24s 134ms/step - loss: 0.9980 - accuracy: 0.6317 - val_loss: 1.0168 - val_accuracy: 0.6241\n",
            "Epoch 15/100\n",
            "177/177 [==============================] - 24s 133ms/step - loss: 0.9946 - accuracy: 0.6347 - val_loss: 0.9791 - val_accuracy: 0.6316\n",
            "Epoch 16/100\n",
            "177/177 [==============================] - 23s 131ms/step - loss: 0.9890 - accuracy: 0.6360 - val_loss: 1.0105 - val_accuracy: 0.6337\n",
            "Epoch 17/100\n",
            "177/177 [==============================] - 29s 165ms/step - loss: 0.9912 - accuracy: 0.6376 - val_loss: 0.9853 - val_accuracy: 0.6300\n",
            "Epoch 18/100\n",
            "177/177 [==============================] - 28s 157ms/step - loss: 0.9699 - accuracy: 0.6414 - val_loss: 0.9797 - val_accuracy: 0.6342\n",
            "Epoch 19/100\n",
            "177/177 [==============================] - 23s 131ms/step - loss: 0.9554 - accuracy: 0.6459 - val_loss: 0.9716 - val_accuracy: 0.6374\n",
            "Epoch 20/100\n",
            "177/177 [==============================] - 23s 131ms/step - loss: 0.9543 - accuracy: 0.6432 - val_loss: 0.9863 - val_accuracy: 0.6379\n",
            "Epoch 21/100\n",
            "177/177 [==============================] - 24s 136ms/step - loss: 0.9373 - accuracy: 0.6513 - val_loss: 0.9530 - val_accuracy: 0.6331\n",
            "Epoch 22/100\n",
            "177/177 [==============================] - 23s 129ms/step - loss: 0.9436 - accuracy: 0.6460 - val_loss: 0.9650 - val_accuracy: 0.6406\n",
            "Epoch 23/100\n",
            "177/177 [==============================] - 23s 129ms/step - loss: 0.9400 - accuracy: 0.6545 - val_loss: 0.9873 - val_accuracy: 0.6284\n",
            "Epoch 24/100\n",
            "177/177 [==============================] - 25s 139ms/step - loss: 0.9254 - accuracy: 0.6574 - val_loss: 0.9514 - val_accuracy: 0.6437\n",
            "Epoch 25/100\n",
            "177/177 [==============================] - 28s 158ms/step - loss: 0.9170 - accuracy: 0.6579 - val_loss: 0.9269 - val_accuracy: 0.6548\n",
            "Epoch 26/100\n",
            "177/177 [==============================] - 23s 131ms/step - loss: 0.9076 - accuracy: 0.6575 - val_loss: 0.9038 - val_accuracy: 0.6379\n",
            "Epoch 27/100\n",
            "177/177 [==============================] - 24s 133ms/step - loss: 0.9049 - accuracy: 0.6609 - val_loss: 0.9256 - val_accuracy: 0.6559\n",
            "Epoch 28/100\n",
            "177/177 [==============================] - 24s 136ms/step - loss: 0.8910 - accuracy: 0.6641 - val_loss: 0.9477 - val_accuracy: 0.6416\n",
            "Epoch 29/100\n",
            "177/177 [==============================] - 23s 130ms/step - loss: 0.8897 - accuracy: 0.6726 - val_loss: 0.8864 - val_accuracy: 0.6617\n",
            "Epoch 30/100\n",
            "177/177 [==============================] - 24s 134ms/step - loss: 0.8772 - accuracy: 0.6692 - val_loss: 0.9012 - val_accuracy: 0.6533\n",
            "Epoch 31/100\n",
            "177/177 [==============================] - 25s 139ms/step - loss: 0.8866 - accuracy: 0.6694 - val_loss: 0.8831 - val_accuracy: 0.6691\n",
            "Epoch 32/100\n",
            "177/177 [==============================] - 29s 166ms/step - loss: 0.8643 - accuracy: 0.6722 - val_loss: 0.9053 - val_accuracy: 0.6623\n",
            "Epoch 33/100\n",
            "177/177 [==============================] - 28s 159ms/step - loss: 0.8648 - accuracy: 0.6713 - val_loss: 0.8955 - val_accuracy: 0.6670\n",
            "Epoch 34/100\n",
            "177/177 [==============================] - 29s 161ms/step - loss: 0.8573 - accuracy: 0.6770 - val_loss: 0.8691 - val_accuracy: 0.6813\n",
            "Epoch 35/100\n",
            "177/177 [==============================] - 24s 134ms/step - loss: 0.8506 - accuracy: 0.6791 - val_loss: 0.8563 - val_accuracy: 0.6771\n",
            "Epoch 36/100\n",
            "177/177 [==============================] - 28s 160ms/step - loss: 0.8580 - accuracy: 0.6853 - val_loss: 0.8637 - val_accuracy: 0.6654\n",
            "Epoch 37/100\n",
            "177/177 [==============================] - 24s 134ms/step - loss: 0.8417 - accuracy: 0.6894 - val_loss: 0.8633 - val_accuracy: 0.6654\n",
            "Epoch 38/100\n",
            "177/177 [==============================] - 25s 141ms/step - loss: 0.8307 - accuracy: 0.6867 - val_loss: 0.8522 - val_accuracy: 0.6760\n",
            "Epoch 39/100\n",
            "177/177 [==============================] - 24s 138ms/step - loss: 0.8275 - accuracy: 0.6931 - val_loss: 0.8977 - val_accuracy: 0.6697\n",
            "Epoch 40/100\n",
            "177/177 [==============================] - 24s 137ms/step - loss: 0.8267 - accuracy: 0.6922 - val_loss: 0.8742 - val_accuracy: 0.6850\n",
            "Epoch 41/100\n",
            "177/177 [==============================] - 24s 136ms/step - loss: 0.8314 - accuracy: 0.6922 - val_loss: 0.8596 - val_accuracy: 0.6734\n",
            "Epoch 42/100\n",
            "177/177 [==============================] - 28s 161ms/step - loss: 0.8122 - accuracy: 0.6936 - val_loss: 0.8517 - val_accuracy: 0.6930\n",
            "Epoch 43/100\n",
            "177/177 [==============================] - 24s 136ms/step - loss: 0.8102 - accuracy: 0.6924 - val_loss: 0.8766 - val_accuracy: 0.6787\n",
            "Epoch 44/100\n",
            "177/177 [==============================] - 24s 134ms/step - loss: 0.8121 - accuracy: 0.6998 - val_loss: 0.8599 - val_accuracy: 0.6850\n",
            "Epoch 45/100\n",
            "177/177 [==============================] - 28s 159ms/step - loss: 0.7947 - accuracy: 0.7028 - val_loss: 0.8979 - val_accuracy: 0.6607\n",
            "Epoch 46/100\n",
            "177/177 [==============================] - 28s 159ms/step - loss: 0.7898 - accuracy: 0.7062 - val_loss: 0.8439 - val_accuracy: 0.6930\n",
            "Epoch 47/100\n",
            "177/177 [==============================] - 24s 137ms/step - loss: 0.7969 - accuracy: 0.7026 - val_loss: 0.8373 - val_accuracy: 0.6956\n",
            "Epoch 48/100\n",
            "177/177 [==============================] - 24s 135ms/step - loss: 0.7914 - accuracy: 0.7012 - val_loss: 0.8361 - val_accuracy: 0.6956\n",
            "Epoch 49/100\n",
            "177/177 [==============================] - 24s 135ms/step - loss: 0.7902 - accuracy: 0.7021 - val_loss: 0.8630 - val_accuracy: 0.6834\n",
            "Epoch 50/100\n",
            "177/177 [==============================] - 29s 162ms/step - loss: 0.7917 - accuracy: 0.7058 - val_loss: 0.8192 - val_accuracy: 0.7035\n",
            "Epoch 51/100\n",
            "177/177 [==============================] - 24s 138ms/step - loss: 0.7733 - accuracy: 0.7099 - val_loss: 0.8742 - val_accuracy: 0.6845\n",
            "Epoch 52/100\n",
            "177/177 [==============================] - 24s 138ms/step - loss: 0.7577 - accuracy: 0.7146 - val_loss: 0.8064 - val_accuracy: 0.7120\n",
            "Epoch 53/100\n",
            "177/177 [==============================] - 24s 135ms/step - loss: 0.7627 - accuracy: 0.7153 - val_loss: 0.8522 - val_accuracy: 0.6988\n",
            "Epoch 54/100\n",
            "177/177 [==============================] - 24s 137ms/step - loss: 0.7588 - accuracy: 0.7176 - val_loss: 0.8336 - val_accuracy: 0.6972\n",
            "Epoch 55/100\n",
            "177/177 [==============================] - 29s 161ms/step - loss: 0.7656 - accuracy: 0.7143 - val_loss: 0.8119 - val_accuracy: 0.7025\n",
            "Epoch 56/100\n",
            "177/177 [==============================] - 24s 137ms/step - loss: 0.7678 - accuracy: 0.7109 - val_loss: 0.8107 - val_accuracy: 0.7041\n",
            "Epoch 57/100\n",
            "177/177 [==============================] - 23s 130ms/step - loss: 0.7674 - accuracy: 0.7125 - val_loss: 0.8281 - val_accuracy: 0.6998\n",
            "Epoch 58/100\n",
            "177/177 [==============================] - 24s 134ms/step - loss: 0.7464 - accuracy: 0.7199 - val_loss: 0.8232 - val_accuracy: 0.6930\n",
            "Epoch 59/100\n",
            "177/177 [==============================] - 24s 134ms/step - loss: 0.7408 - accuracy: 0.7208 - val_loss: 0.8077 - val_accuracy: 0.7057\n",
            "Epoch 60/100\n",
            "177/177 [==============================] - 24s 137ms/step - loss: 0.7341 - accuracy: 0.7270 - val_loss: 0.8540 - val_accuracy: 0.7030\n",
            "Epoch 61/100\n",
            "177/177 [==============================] - 26s 145ms/step - loss: 0.7358 - accuracy: 0.7187 - val_loss: 0.7847 - val_accuracy: 0.7200\n",
            "Epoch 62/100\n",
            "177/177 [==============================] - 23s 131ms/step - loss: 0.7479 - accuracy: 0.7191 - val_loss: 0.8180 - val_accuracy: 0.7163\n",
            "Epoch 63/100\n",
            "177/177 [==============================] - 29s 161ms/step - loss: 0.7346 - accuracy: 0.7207 - val_loss: 0.7996 - val_accuracy: 0.7194\n",
            "Epoch 64/100\n",
            "177/177 [==============================] - 24s 134ms/step - loss: 0.7221 - accuracy: 0.7281 - val_loss: 0.8395 - val_accuracy: 0.6908\n",
            "Epoch 65/100\n",
            "177/177 [==============================] - 24s 136ms/step - loss: 0.7241 - accuracy: 0.7336 - val_loss: 0.7658 - val_accuracy: 0.7231\n",
            "Epoch 66/100\n",
            "177/177 [==============================] - 30s 169ms/step - loss: 0.7336 - accuracy: 0.7228 - val_loss: 0.8036 - val_accuracy: 0.7110\n",
            "Epoch 67/100\n",
            "177/177 [==============================] - 25s 139ms/step - loss: 0.7179 - accuracy: 0.7261 - val_loss: 0.8189 - val_accuracy: 0.7073\n",
            "Epoch 68/100\n",
            "177/177 [==============================] - 26s 144ms/step - loss: 0.7073 - accuracy: 0.7461 - val_loss: 0.7807 - val_accuracy: 0.7215\n",
            "Epoch 69/100\n",
            "177/177 [==============================] - 25s 139ms/step - loss: 0.7143 - accuracy: 0.7329 - val_loss: 0.7958 - val_accuracy: 0.7189\n",
            "Epoch 70/100\n",
            "177/177 [==============================] - 23s 132ms/step - loss: 0.7147 - accuracy: 0.7355 - val_loss: 0.8068 - val_accuracy: 0.7136\n",
            "Epoch 71/100\n",
            "177/177 [==============================] - 24s 132ms/step - loss: 0.7083 - accuracy: 0.7369 - val_loss: 0.8076 - val_accuracy: 0.7094\n",
            "Epoch 72/100\n",
            "177/177 [==============================] - 24s 136ms/step - loss: 0.7158 - accuracy: 0.7313 - val_loss: 0.7891 - val_accuracy: 0.7237\n",
            "Epoch 73/100\n",
            "177/177 [==============================] - 28s 161ms/step - loss: 0.6868 - accuracy: 0.7390 - val_loss: 0.7901 - val_accuracy: 0.7178\n",
            "Epoch 74/100\n",
            "177/177 [==============================] - 26s 146ms/step - loss: 0.7164 - accuracy: 0.7337 - val_loss: 0.7803 - val_accuracy: 0.7253\n",
            "Epoch 75/100\n",
            "177/177 [==============================] - 27s 150ms/step - loss: 0.6843 - accuracy: 0.7466 - val_loss: 0.7829 - val_accuracy: 0.7279\n",
            "Epoch 76/100\n",
            "177/177 [==============================] - 24s 134ms/step - loss: 0.6900 - accuracy: 0.7447 - val_loss: 0.7855 - val_accuracy: 0.7263\n",
            "Epoch 77/100\n",
            "177/177 [==============================] - 24s 132ms/step - loss: 0.6859 - accuracy: 0.7454 - val_loss: 0.7918 - val_accuracy: 0.7184\n",
            "Epoch 78/100\n",
            "177/177 [==============================] - 28s 161ms/step - loss: 0.7010 - accuracy: 0.7454 - val_loss: 0.7929 - val_accuracy: 0.7215\n",
            "Epoch 79/100\n",
            "177/177 [==============================] - 24s 138ms/step - loss: 0.6808 - accuracy: 0.7422 - val_loss: 0.7867 - val_accuracy: 0.7253\n",
            "Epoch 80/100\n",
            "177/177 [==============================] - 24s 134ms/step - loss: 0.6853 - accuracy: 0.7481 - val_loss: 0.7777 - val_accuracy: 0.7290\n",
            "Epoch 81/100\n",
            "177/177 [==============================] - 30s 170ms/step - loss: 0.6792 - accuracy: 0.7465 - val_loss: 0.7885 - val_accuracy: 0.7247\n",
            "Epoch 82/100\n",
            "177/177 [==============================] - 24s 135ms/step - loss: 0.6811 - accuracy: 0.7431 - val_loss: 0.7946 - val_accuracy: 0.7200\n",
            "Epoch 83/100\n",
            "177/177 [==============================] - 28s 161ms/step - loss: 0.6816 - accuracy: 0.7468 - val_loss: 0.8103 - val_accuracy: 0.7173\n",
            "Epoch 84/100\n",
            "177/177 [==============================] - 24s 134ms/step - loss: 0.6883 - accuracy: 0.7420 - val_loss: 0.8091 - val_accuracy: 0.7258\n",
            "Epoch 85/100\n",
            "177/177 [==============================] - 24s 136ms/step - loss: 0.6631 - accuracy: 0.7505 - val_loss: 0.7745 - val_accuracy: 0.7305\n"
          ]
        }
      ]
    },
    {
      "cell_type": "code",
      "source": [
        "modelo_naive.save(\"cassava/modelo_naive\")"
      ],
      "metadata": {
        "id": "SAjxEUw5GBeo"
      },
      "execution_count": null,
      "outputs": []
    },
    {
      "cell_type": "code",
      "source": [
        "plt.plot(history.history['loss'])\n",
        "plt.plot(history.history['val_loss'])\n",
        "plt.title('model loss')\n",
        "plt.ylabel('loss')\n",
        "plt.xlabel('epoch')\n",
        "plt.legend(['train', 'val'], loc='upper left')\n",
        "plt.show()"
      ],
      "metadata": {
        "colab": {
          "base_uri": "https://localhost:8080/",
          "height": 472
        },
        "id": "ywT_HUxES6Ck",
        "outputId": "943a3831-5785-4a2f-f5dd-43b63ee8aeb1"
      },
      "execution_count": null,
      "outputs": [
        {
          "output_type": "display_data",
          "data": {
            "text/plain": [
              "<Figure size 640x480 with 1 Axes>"
            ],
            "image/png": "[encoded data removed]"
          },
          "metadata": {}
        }
      ]
    },
    {
      "cell_type": "code",
      "source": [],
      "metadata": {
        "id": "Ni-Fu0j4Ts_2"
      },
      "execution_count": null,
      "outputs": []
    }
  ]
}